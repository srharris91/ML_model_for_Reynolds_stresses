{
 "cells": [
  {
   "cell_type": "code",
   "execution_count": 1,
   "metadata": {},
   "outputs": [],
   "source": [
    "import numpy as np\n",
    "import matplotlib.pyplot as plt\n",
    "import torch"
   ]
  },
  {
   "cell_type": "code",
   "execution_count": 2,
   "metadata": {},
   "outputs": [],
   "source": [
    "x_train = np.array(np.arange(11,dtype=np.float32)).reshape(-1,1)\n",
    "y_train = 2*x_train+1\n"
   ]
  },
  {
   "cell_type": "code",
   "execution_count": 3,
   "metadata": {},
   "outputs": [],
   "source": [
    "class linearRegression(torch.nn.Module):\n",
    "    def __init__(self,inputSize,outputSize):\n",
    "        super(linearRegression,self).__init__()\n",
    "        self.linear = torch.nn.Linear(inputSize,outputSize)\n",
    "        \n",
    "    def forward(self,x):\n",
    "        out = self.linear(x)\n",
    "        return out"
   ]
  },
  {
   "cell_type": "code",
   "execution_count": 5,
   "metadata": {},
   "outputs": [],
   "source": [
    "model = linearRegression(1,1) # linear model with 1 inputSize and 1 outputSize\n",
    "criterion = torch.nn.MSELoss() # Mean Squared Error loss function\n",
    "optimizer = torch.optim.SGD(model.parameters(), lr = 0.01) # stochastic gradient descent with 0.01 learning rate"
   ]
  },
  {
   "cell_type": "code",
   "execution_count": 27,
   "metadata": {
    "scrolled": true
   },
   "outputs": [
    {
     "name": "stdout",
     "output_type": "stream",
     "text": [
      "epoch 0, loss 9.573594694778365e-11\n"
     ]
    }
   ],
   "source": [
    "for epoch in range(100):\n",
    "    inputs = torch.autograd.Variable(torch.from_numpy(x_train))\n",
    "    labels = torch.autograd.Variable(torch.from_numpy(y_train))\n",
    "    \n",
    "    # clear gradient buffers\n",
    "    optimizer.zero_grad()\n",
    "    \n",
    "    # get output from model\n",
    "    outputs = model(inputs)\n",
    "    \n",
    "    # get loss\n",
    "    loss = criterion(outputs,labels)\n",
    "    # get gradients w.r.t. to parameters\n",
    "    loss.backward()\n",
    "    \n",
    "    # update parameters\n",
    "    optimizer.step()\n",
    "    \n",
    "    print('epoch {}, loss {}'.format(epoch, loss.item()))\n",
    "    if loss.item()<=1E-10:\n",
    "        break"
   ]
  },
  {
   "cell_type": "code",
   "execution_count": 28,
   "metadata": {},
   "outputs": [
    {
     "name": "stdout",
     "output_type": "stream",
     "text": [
      "<class 'numpy.ndarray'>\n"
     ]
    },
    {
     "data": {
      "image/png": "[encoded data removed]",
      "text/plain": [
       "<Figure size 360x216 with 1 Axes>"
      ]
     },
     "metadata": {
      "needs_background": "light"
     },
     "output_type": "display_data"
    }
   ],
   "source": [
    "# plot results\n",
    "with torch.no_grad():\n",
    "    predicted = model(torch.autograd.Variable(torch.from_numpy(x_train))).data.numpy()\n",
    "    print(type(predicted))\n",
    "    \n",
    "fig,ax=plt.subplots(figsize=(5,3))\n",
    "ax.plot(x_train,y_train,'o',label='predicted')\n",
    "ax.plot(x_train,predicted,'--',label='predicted')\n",
    "ax.legend(loc='best',numpoints=1)\n",
    "fig.tight_layout()"
   ]
  },
  {
   "cell_type": "code",
   "execution_count": null,
   "metadata": {},
   "outputs": [],
   "source": []
  }
 ],
 "metadata": {
  "kernelspec": {
   "display_name": "Python 3",
   "language": "python",
   "name": "python3"
  },
  "language_info": {
   "codemirror_mode": {
    "name": "ipython",
    "version": 3
   },
   "file_extension": ".py",
   "mimetype": "text/x-python",
   "name": "python",
   "nbconvert_exporter": "python",
   "pygments_lexer": "ipython3",
   "version": "3.7.4"
  },
  "varInspector": {
   "cols": {
    "lenName": 16,
    "lenType": 16,
    "lenVar": 40
   },
   "kernels_config": {
    "python": {
     "delete_cmd_postfix": "",
     "delete_cmd_prefix": "del ",
     "library": "var_list.py",
     "varRefreshCmd": "print(var_dic_list())"
    },
    "r": {
     "delete_cmd_postfix": ") ",
     "delete_cmd_prefix": "rm(",
     "library": "var_list.r",
     "varRefreshCmd": "cat(var_dic_list()) "
    }
   },
   "types_to_exclude": [
    "module",
    "function",
    "builtin_function_or_method",
    "instance",
    "_Feature"
   ],
   "window_display": false
  }
 },
 "nbformat": 4,
 "nbformat_minor": 2
}
