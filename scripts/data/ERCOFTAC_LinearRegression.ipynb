{
 "cells": [
  {
   "cell_type": "code",
   "execution_count": 8,
   "metadata": {},
   "outputs": [],
   "source": [
    "import numpy as np\n",
    "import matplotlib.pyplot as plt\n",
    "import torch\n",
    "from scipy.special import factorial"
   ]
  },
  {
   "cell_type": "code",
   "execution_count": 55,
   "metadata": {},
   "outputs": [],
   "source": [
    "from IPython.display import display, Latex"
   ]
  },
  {
   "cell_type": "code",
   "execution_count": 46,
   "metadata": {
    "code_folding": [
     0,
     20,
     101
    ]
   },
   "outputs": [],
   "source": [
    "def get_D_Coeffs(s,d=2):\n",
    "    '''\n",
    "    Solve arbitrary stencil points s of length N with order of derivatives d<N\n",
    "    can be obtained from equation on MIT website\n",
    "    http://web.media.mit.edu/~crtaylor/calculator.html\n",
    "    where the accuracy is determined as the usual form O(h^(N-d))\n",
    "    \n",
    "    Inputs:\n",
    "        s: array like input of stencil points e.g. np.array([-3,-2,-1,0,1])\n",
    "        d: order of desired derivative\n",
    "    '''\n",
    "    # let's solve an Ax=b problem\n",
    "    N=s.size # stencil length\n",
    "    A=[]\n",
    "    for i in range(N):\n",
    "        A.append(s**i)\n",
    "    b=np.zeros(N)\n",
    "    b[d] = factorial(d)\n",
    "    x = np.linalg.solve(np.matrix(A),b)\n",
    "    return x\n",
    "def set_D(y,order=2,d=2,reduce_wall_order=True,output_full=False,periodic=False,uniform=True):\n",
    "    '''\n",
    "    Input:\n",
    "        y: array of y values of channel\n",
    "        order: order of accuracy desired (assuming even e.g. 2,4,6,...)\n",
    "        d: dth derivative\n",
    "    Output:\n",
    "        D: (n-2 by n) dth derivative of order O(h^order) assuming uniform y spacing\n",
    "    '''\n",
    "    h = y[1]-y[0] # uniform spacing\n",
    "    if not uniform:\n",
    "        xi=np.linspace(0,1,y.size)\n",
    "        h=xi[1] - xi[0]\n",
    "    n = y.size\n",
    "    ones=np.ones(n)\n",
    "    I = np.eye(n)\n",
    "    # get coefficients for main diagonals\n",
    "    N=order+d # how many pts needed for order of accuracy\n",
    "    if N>n:\n",
    "        raise ValueError('You need more points in your domain, you need %i pts and you only gave %i'%(N,n))\n",
    "    Nm1=N-1 # how many pts needed if using central difference is equal to N-1\n",
    "    if (d % 2 != 0): # if odd derivative\n",
    "        Nm1+=1 # add one more point to central, to count the i=0 0 coefficient\n",
    "    # stencil and get Coeffs for diagonals\n",
    "    s = np.arange(Nm1)-int((Nm1-1)/2) # stencil for central diff of order\n",
    "    smax=s[-1] # right most stencil used (positive range)\n",
    "    Coeffs = get_D_Coeffs(s,d=d)\n",
    "    # loop over s and add coefficient matrices to D\n",
    "    D = np.zeros_like(I)\n",
    "    si = np.nditer(s,('c_index',))\n",
    "    while not si.finished:\n",
    "        i = si.index\n",
    "        if si[0]==0:\n",
    "            diag_to_add = np.diag(Coeffs[i] * ones,k=si[0])\n",
    "        else:\n",
    "            diag_to_add = np.diag(Coeffs[i] * ones[:-abs(si[0])],k=si[0])\n",
    "\n",
    "        D += diag_to_add\n",
    "        if periodic:\n",
    "            if si[0]>0:\n",
    "                diag_to_add = np.diag(Coeffs[i]*ones[:abs(si[0])],k=si[0]-n)\n",
    "            elif si[0]<0:\n",
    "                diag_to_add = np.diag(Coeffs[i]*ones[:abs(si[0])],k=si[0]+n)\n",
    "            if si[0]!=0:\n",
    "                D += diag_to_add\n",
    "                \n",
    "        si.iternext()\n",
    "    if not periodic:\n",
    "        # alter BC so we don't go out of range on bottom of channel\n",
    "        for i in range(0,smax):\n",
    "            # for ith row, set proper stencil coefficients\n",
    "            if reduce_wall_order:\n",
    "                if (d%2!=0): # if odd derivative\n",
    "                    s = np.arange(Nm1-1)-i # stencil for shifted diff of order-1\n",
    "                else:\n",
    "                    s = np.arange(Nm1)-i # stencil for shifted diff of order-1\n",
    "            else:\n",
    "                s = np.arange(N)-i # stencil for shifted diff of order\n",
    "            Coeffs = get_D_Coeffs(s,d=d)\n",
    "            D[i,:] = 0. # set row to zero\n",
    "            D[i,s+i] = Coeffs # set row to have proper coefficients\n",
    "\n",
    "            # for -ith-1 row, set proper stencil coefficients\n",
    "            if reduce_wall_order:\n",
    "                if (d%2!=0): # if odd derivative\n",
    "                    s = -(np.arange(Nm1-1)-i) # stencil for shifted diff of order-1\n",
    "                else:\n",
    "                    s = -(np.arange(Nm1)-i) # stencil for shifted diff of order-1\n",
    "            else:\n",
    "                s = -(np.arange(N)-i) # stencil for shifted diff of order\n",
    "            Coeffs = get_D_Coeffs(s,d=d)\n",
    "            D[-i-1,:] = 0. # set row to zero\n",
    "            D[-i-1,s-i-1] = Coeffs # set row to have proper coefficients\n",
    "\n",
    "    if output_full:\n",
    "        D = (1./(h**d)) * D # do return the full matrix\n",
    "    else:\n",
    "        D = (1./(h**d)) * D[1:-1,:] # do not return the top or bottom row\n",
    "    if not uniform:\n",
    "        D = map_D(D,y,order=order,d=d,reduce_wall_order=reduce_wall_order,output_full=output_full,periodic=periodic,uniform=uniform)\n",
    "    return D \n",
    "def map_D(D,y,order=2,d=2,reduce_wall_order=True,output_full=False,periodic=False,uniform=True):\n",
    "    if not uniform:\n",
    "        xi=np.linspace(0,1,y.size)\n",
    "        if d==1: # if 1st derivative operator d(.)/dy = d(.)/dxi * dxi/dy\n",
    "            dydxi = D@y # matrix multiply in python3\n",
    "            dxidy = 1./dydxi # element wise invert\n",
    "            return D*dxidy[:,np.newaxis] # d(.)/dy = d(.)/dxi * dxi/dy\n",
    "        elif d==2: # d^2()/dy^2 = d^2()/dxi^2 (dxi/dy)^2 + d()/dxi d^2xi/dy^2\n",
    "            D1=set_D(xi,order=order,d=1,reduce_wall_order=reduce_wall_order,output_full=output_full,periodic=periodic,uniform=True)\n",
    "            dydxi = D1@y\n",
    "            dxidy = 1./dydxi # element wise invert\n",
    "            #d2ydxi2 = D@y # d^2y/dxi^2\n",
    "            #d2xidy2 = 1./d2ydxi2 # d^2xi/dy^2 = 1./(d^2y/dxi^2)\n",
    "            d2xidy2 = -(D@y)*(dxidy)**3\n",
    "            #print('d2xidy2 = ',d2xidy2)\n",
    "            return (D*(dxidy[:,np.newaxis]**2)) + (D1*d2xidy2[:,np.newaxis])  # d^2()/dy^2 = d^2()/dxi^2 (dxi/dy)^2 + d()/dxi d^2xi/dy^2\n",
    "        else:\n",
    "            print('Cannot do this order of derivative with non-uniform mesh.  your input order of derivative = ',d)\n",
    "    else:\n",
    "        return D"
   ]
  },
  {
   "cell_type": "code",
   "execution_count": 80,
   "metadata": {},
   "outputs": [
    {
     "data": {
      "text/latex": [
       "$\\nu=0.834337697621319$"
      ],
      "text/plain": [
       "<IPython.core.display.Latex object>"
      ]
     },
     "metadata": {},
     "output_type": "display_data"
    }
   ],
   "source": [
    "data_files=['ERCOFTAC_Case33/test33/Shaun_pp_simul1.dat',\n",
    "            #'ERCOFTAC_Case33/test33/Shaun_pp_simul2.dat',\n",
    "            #'ERCOFTAC_Case33/test33/Shaun_pp_simul3.dat'\n",
    "           ]\n",
    "for filei in data_files:\n",
    "    data=np.genfromtxt(filei)\n",
    "\n",
    "    #delta=1.\n",
    "    y_delta=data[:,1]\n",
    "    yplus=data[:,2]\n",
    "    uplus=data[:,3]\n",
    "\n",
    "    yplus0=np.hstack([0.,yplus])\n",
    "    uplus0=np.hstack([0.,uplus])\n",
    "\n",
    "    Dyplus = set_D(yplus0,order=4,d=1,reduce_wall_order=True,output_full=True)\n",
    "\n",
    "    nu = (Dyplus[0,:]@uplus0)\n",
    "    display(Latex(r'$\\nu={}$'.format(nu)))\n",
    "    #utau=uplus0[-1]/uinf\n",
    "    #display(Latex(r'$u_\\tau={}$'.format(utau)))"
   ]
  },
  {
   "cell_type": "code",
   "execution_count": 81,
   "metadata": {},
   "outputs": [
    {
     "name": "stdout",
     "output_type": "stream",
     "text": [
      "2.3800309518198812\n",
      "7.784352546269789\n"
     ]
    }
   ],
   "source": [
    "Re_deltastar=500.\n",
    "c=np.mean(yplus*nu/y_delta)\n",
    "utau=np.sqrt(uplus0[-1]*c/(nu*Re_deltastar))\n",
    "print(utau)\n",
    "uinf=uplus0[-1]/utau\n",
    "print(uinf)"
   ]
  },
  {
   "cell_type": "code",
   "execution_count": 82,
   "metadata": {},
   "outputs": [
    {
     "data": {
      "text/plain": [
       "3.270693828715762"
      ]
     },
     "execution_count": 82,
     "metadata": {},
     "output_type": "execute_result"
    }
   ],
   "source": [
    "Re_deltastar*nu/c"
   ]
  },
  {
   "cell_type": "code",
   "execution_count": 83,
   "metadata": {},
   "outputs": [
    {
     "data": {
      "text/plain": [
       "18.527"
      ]
     },
     "execution_count": 83,
     "metadata": {},
     "output_type": "execute_result"
    }
   ],
   "source": [
    "uplus0[-1]"
   ]
  },
  {
   "cell_type": "code",
   "execution_count": null,
   "metadata": {},
   "outputs": [],
   "source": []
  }
 ],
 "metadata": {
  "kernelspec": {
   "display_name": "Python 3",
   "language": "python",
   "name": "python3"
  },
  "language_info": {
   "codemirror_mode": {
    "name": "ipython",
    "version": 3
   },
   "file_extension": ".py",
   "mimetype": "text/x-python",
   "name": "python",
   "nbconvert_exporter": "python",
   "pygments_lexer": "ipython3",
   "version": "3.7.5"
  }
 },
 "nbformat": 4,
 "nbformat_minor": 2
}
